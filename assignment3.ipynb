{
 "cells": [
  {
   "cell_type": "markdown",
   "id": "209ab675",
   "metadata": {},
   "source": [
    "Q1. What will be output of following\n",
    "\n",
    "a. type(0)\n",
    "b. type(0.0)\n",
    "c. type('A')\n",
    "d. type(print) -> remember print is function\n",
    "e. type(3+3j)\n",
    "f. type(True)"
   ]
  },
  {
   "cell_type": "code",
   "execution_count": 1,
   "id": "66d6a534",
   "metadata": {},
   "outputs": [
    {
     "data": {
      "text/plain": [
       "int"
      ]
     },
     "execution_count": 1,
     "metadata": {},
     "output_type": "execute_result"
    }
   ],
   "source": [
    "type(0)"
   ]
  },
  {
   "cell_type": "code",
   "execution_count": 2,
   "id": "e88a11bd",
   "metadata": {},
   "outputs": [
    {
     "data": {
      "text/plain": [
       "float"
      ]
     },
     "execution_count": 2,
     "metadata": {},
     "output_type": "execute_result"
    }
   ],
   "source": [
    "type(0.0)"
   ]
  },
  {
   "cell_type": "code",
   "execution_count": 3,
   "id": "8c5d8b3c",
   "metadata": {},
   "outputs": [
    {
     "data": {
      "text/plain": [
       "str"
      ]
     },
     "execution_count": 3,
     "metadata": {},
     "output_type": "execute_result"
    }
   ],
   "source": [
    "type('A')"
   ]
  },
  {
   "cell_type": "code",
   "execution_count": 4,
   "id": "38b29025",
   "metadata": {},
   "outputs": [
    {
     "data": {
      "text/plain": [
       "builtin_function_or_method"
      ]
     },
     "execution_count": 4,
     "metadata": {},
     "output_type": "execute_result"
    }
   ],
   "source": [
    "type(print)"
   ]
  },
  {
   "cell_type": "code",
   "execution_count": 5,
   "id": "a9b3985d",
   "metadata": {},
   "outputs": [
    {
     "data": {
      "text/plain": [
       "complex"
      ]
     },
     "execution_count": 5,
     "metadata": {},
     "output_type": "execute_result"
    }
   ],
   "source": [
    "type(3+3j)"
   ]
  },
  {
   "cell_type": "code",
   "execution_count": 6,
   "id": "594e4e7b",
   "metadata": {},
   "outputs": [
    {
     "data": {
      "text/plain": [
       "bool"
      ]
     },
     "execution_count": 6,
     "metadata": {},
     "output_type": "execute_result"
    }
   ],
   "source": [
    "type(True)"
   ]
  },
  {
   "cell_type": "markdown",
   "id": "4cf85468",
   "metadata": {},
   "source": [
    "Q2. What will be output of following\n",
    "\n",
    "a. isinstance(10,int)\n",
    "b. isinstance(10,float)\n",
    "c. isinstance(1,bool)\n",
    "d. isinstance(0,bool)\n",
    "e. isinstance(78.8,int)\n",
    "f. isinstance(78.8,float)\n",
    "g. isinstance(78.8,complex)\n",
    "h. isinstance(True,bool)\n",
    "\n",
    "NOTE: Similarly check for few other values and clarify the concept \n"
   ]
  },
  {
   "cell_type": "code",
   "execution_count": 7,
   "id": "6fd2be4a",
   "metadata": {},
   "outputs": [
    {
     "data": {
      "text/plain": [
       "True"
      ]
     },
     "execution_count": 7,
     "metadata": {},
     "output_type": "execute_result"
    }
   ],
   "source": [
    "isinstance(10,int)"
   ]
  },
  {
   "cell_type": "code",
   "execution_count": 8,
   "id": "79741a77",
   "metadata": {},
   "outputs": [
    {
     "data": {
      "text/plain": [
       "False"
      ]
     },
     "execution_count": 8,
     "metadata": {},
     "output_type": "execute_result"
    }
   ],
   "source": [
    "isinstance(10,float)"
   ]
  },
  {
   "cell_type": "code",
   "execution_count": 9,
   "id": "ffa590cf",
   "metadata": {},
   "outputs": [
    {
     "data": {
      "text/plain": [
       "False"
      ]
     },
     "execution_count": 9,
     "metadata": {},
     "output_type": "execute_result"
    }
   ],
   "source": [
    "isinstance(1,bool)"
   ]
  },
  {
   "cell_type": "code",
   "execution_count": 10,
   "id": "a389a03e",
   "metadata": {},
   "outputs": [
    {
     "data": {
      "text/plain": [
       "False"
      ]
     },
     "execution_count": 10,
     "metadata": {},
     "output_type": "execute_result"
    }
   ],
   "source": [
    "isinstance(0,bool)"
   ]
  },
  {
   "cell_type": "code",
   "execution_count": 11,
   "id": "d3bd1577",
   "metadata": {},
   "outputs": [
    {
     "data": {
      "text/plain": [
       "False"
      ]
     },
     "execution_count": 11,
     "metadata": {},
     "output_type": "execute_result"
    }
   ],
   "source": [
    "isinstance(78.8,int)"
   ]
  },
  {
   "cell_type": "code",
   "execution_count": 12,
   "id": "20cc5eb8",
   "metadata": {},
   "outputs": [
    {
     "data": {
      "text/plain": [
       "True"
      ]
     },
     "execution_count": 12,
     "metadata": {},
     "output_type": "execute_result"
    }
   ],
   "source": [
    "isinstance(78.8,float)"
   ]
  },
  {
   "cell_type": "code",
   "execution_count": 13,
   "id": "f1f48106",
   "metadata": {},
   "outputs": [
    {
     "data": {
      "text/plain": [
       "False"
      ]
     },
     "execution_count": 13,
     "metadata": {},
     "output_type": "execute_result"
    }
   ],
   "source": [
    "isinstance(78.8,complex)"
   ]
  },
  {
   "cell_type": "code",
   "execution_count": 14,
   "id": "47bd8810",
   "metadata": {},
   "outputs": [
    {
     "data": {
      "text/plain": [
       "True"
      ]
     },
     "execution_count": 14,
     "metadata": {},
     "output_type": "execute_result"
    }
   ],
   "source": [
    "isinstance(True,bool)"
   ]
  },
  {
   "cell_type": "markdown",
   "id": "39ea4ccc",
   "metadata": {},
   "source": [
    "Q3. WAP to take following from user, \n",
    "roll no : should be int : store in a variable\n",
    "percentage marks : should be float: store in a variable\n",
    "Any complex number : should be a complex number : store in a variable\n",
    "name of student: should be a string : store in a variable\n",
    "\n",
    "Print values of all four variables"
   ]
  },
  {
   "cell_type": "code",
   "execution_count": 15,
   "id": "eaf2f681",
   "metadata": {},
   "outputs": [
    {
     "name": "stdout",
     "output_type": "stream",
     "text": [
      "enter rollno45\n",
      "enter percent97.65\n",
      "enter complex7+26j\n",
      "enter namevaishnavi\n",
      "45\n",
      "97.65\n",
      "(7+26j)\n",
      "vaishnavi\n"
     ]
    }
   ],
   "source": [
    "roll_no = int(input(\"enter rollno\"))\n",
    "per=float(input(\"enter percent\"))\n",
    "comp=complex(input(\"enter complex\"))\n",
    "name=input(\"enter name\")\n",
    "print(roll_no)\n",
    "print(per)\n",
    "print(comp)\n",
    "print(name)\n"
   ]
  },
  {
   "cell_type": "markdown",
   "id": "8eb422c6",
   "metadata": {},
   "source": [
    "Q4\". WAP to convert given integer to binary, hex and octal format"
   ]
  },
  {
   "cell_type": "code",
   "execution_count": 16,
   "id": "afe2b8c3",
   "metadata": {},
   "outputs": [
    {
     "name": "stdout",
     "output_type": "stream",
     "text": [
      "Enter the num=68\n",
      "0b1000100\n",
      "0x44\n",
      "0o104\n"
     ]
    }
   ],
   "source": [
    "num=int(input(\"Enter the num=\"))\n",
    "print(bin(num))\n",
    "print(hex(num))\n",
    "print(oct(num))\n"
   ]
  },
  {
   "cell_type": "markdown",
   "id": "aff6085f",
   "metadata": {},
   "source": [
    "Q5. WAP to convert given binary string to an integer.\n",
    "NOTE: Binary string should start with '0b' always"
   ]
  },
  {
   "cell_type": "code",
   "execution_count": 18,
   "id": "0d6d889d",
   "metadata": {},
   "outputs": [
    {
     "name": "stdout",
     "output_type": "stream",
     "text": [
      "enter the num0b100111\n",
      "39\n"
     ]
    }
   ],
   "source": [
    "num=input(\"enter the num\")\n",
    "print(int(num,2))"
   ]
  },
  {
   "cell_type": "markdown",
   "id": "0dab8142",
   "metadata": {},
   "source": [
    "Q6. WAP to convert given octal string to an integer.\n",
    "NOTE: Binary string should start with '0o' always"
   ]
  },
  {
   "cell_type": "code",
   "execution_count": 19,
   "id": "420bce4b",
   "metadata": {},
   "outputs": [
    {
     "name": "stdout",
     "output_type": "stream",
     "text": [
      "enter the num0o45\n",
      "37\n"
     ]
    }
   ],
   "source": [
    "num=input(\"enter the num\")\n",
    "print(int(num,8))"
   ]
  },
  {
   "cell_type": "markdown",
   "id": "c6daff44",
   "metadata": {},
   "source": [
    "Q7. WAP to convert given hex string to an integer.\n",
    "NOTE: Binary string should start with '0x' always"
   ]
  },
  {
   "cell_type": "code",
   "execution_count": 20,
   "id": "ea6d7afa",
   "metadata": {},
   "outputs": [
    {
     "name": "stdout",
     "output_type": "stream",
     "text": [
      "enter the num0x4e\n",
      "78\n"
     ]
    }
   ],
   "source": [
    "num=input(\"enter the num\")\n",
    "print(int(num,16))"
   ]
  },
  {
   "cell_type": "markdown",
   "id": "ebcfd579",
   "metadata": {},
   "source": [
    "Q8. WAP to take an int from user. Print number of 1's and 0's in binary format of given number.\n",
    "NOTE: '0b' is suffix in binary string. It should not be included in calculation."
   ]
  },
  {
   "cell_type": "code",
   "execution_count": 22,
   "id": "fc7e0b73",
   "metadata": {},
   "outputs": [
    {
     "name": "stdout",
     "output_type": "stream",
     "text": [
      "enter the num100\n",
      "0b1100100 <class 'str'>\n",
      "no of zero's= 5\n",
      "no of one's= 4\n"
     ]
    }
   ],
   "source": [
    "num=int(input(\"enter the num\"))\n",
    "bnum= bin(num)\n",
    "print(bnum, type(bnum))\n",
    "count = 0\n",
    "zero=0\n",
    "for char in bnum:\n",
    "    if char=='0':\n",
    "        zero= zero+1\n",
    "    else:\n",
    "        count= count+1\n",
    "print(\"no of zero's=\", zero)\n",
    "print(\"no of one's=\", count )\n",
    "    "
   ]
  },
  {
   "cell_type": "markdown",
   "id": "7dfc12de",
   "metadata": {},
   "source": [
    "Q9. Write a menu driven program.\n",
    "Ask the user which input needs to be converted \n",
    "1. binary 2. Octal 3. Hex\n",
    "Then convert given string to integer using int() function"
   ]
  },
  {
   "cell_type": "code",
   "execution_count": 26,
   "id": "cf67f52c",
   "metadata": {},
   "outputs": [
    {
     "name": "stdout",
     "output_type": "stream",
     "text": [
      "For binary 1\n",
      "For Octal 2\n",
      "For Hexa 3\n",
      "Enter the choice=1\n",
      "enter the number0b10010\n",
      "18\n",
      "Enter the choice=2\n",
      "enter the number0o122\n",
      "82\n",
      "Enter the choice=3\n",
      "enter the number0x4d\n",
      "77\n",
      "Enter the choice=4\n"
     ]
    }
   ],
   "source": [
    "print(\"For binary 1\")\n",
    "print(\"For Octal 2\")\n",
    "print(\"For Hexa 3\")\n",
    "choice=int(input(\"Enter the choice=\"))\n",
    "\n",
    "while(0<choice<=3):\n",
    "    num= input(\"enter the number\")\n",
    "    if choice==1:\n",
    "        print(int(num,2))\n",
    "        \n",
    "    elif choice==2:\n",
    "        print(int(num,8))\n",
    "        \n",
    "    elif choice==3:\n",
    "        print(int(num,16))\n",
    "        \n",
    "    else: \n",
    "        break\n",
    "    choice=int(input(\"Enter the choice=\"))\n",
    "else:\n",
    "    quit"
   ]
  },
  {
   "cell_type": "markdown",
   "id": "f4802bdd",
   "metadata": {},
   "source": [
    "Q10. Manually tell output (Truth value) of following expression, then verify it in python\n",
    "You can get truth value of an expression by passing it to bool()\n",
    "Ex. bool(100+56*3) returns True\n",
    "\n",
    "a. '' (empty string)\n",
    "b. 10-10\n",
    "c. 19.99-19.9\n",
    "d. [] (empty list)\n",
    "e. range(0)\n",
    "f. None\n",
    "g. 0+0.1j\n",
    "h. -10\n",
    "i. -9.6\n",
    "j. 'ABC'+'KL'\n",
    "k. '-'\n",
    "l. 'False'\n",
    "m. False\n",
    "n. 'None'"
   ]
  },
  {
   "cell_type": "code",
   "execution_count": 27,
   "id": "48fc891b",
   "metadata": {},
   "outputs": [
    {
     "data": {
      "text/plain": [
       "''"
      ]
     },
     "execution_count": 27,
     "metadata": {},
     "output_type": "execute_result"
    }
   ],
   "source": [
    "''"
   ]
  },
  {
   "cell_type": "code",
   "execution_count": 28,
   "id": "a45c155e",
   "metadata": {},
   "outputs": [
    {
     "data": {
      "text/plain": [
       "0"
      ]
     },
     "execution_count": 28,
     "metadata": {},
     "output_type": "execute_result"
    }
   ],
   "source": [
    "10-10"
   ]
  },
  {
   "cell_type": "code",
   "execution_count": 29,
   "id": "f5685f3f",
   "metadata": {},
   "outputs": [
    {
     "data": {
      "text/plain": [
       "0.08999999999999986"
      ]
     },
     "execution_count": 29,
     "metadata": {},
     "output_type": "execute_result"
    }
   ],
   "source": [
    "19.99-19.9"
   ]
  },
  {
   "cell_type": "code",
   "execution_count": 30,
   "id": "294a08ea",
   "metadata": {},
   "outputs": [
    {
     "data": {
      "text/plain": [
       "[]"
      ]
     },
     "execution_count": 30,
     "metadata": {},
     "output_type": "execute_result"
    }
   ],
   "source": [
    "[]\n"
   ]
  },
  {
   "cell_type": "code",
   "execution_count": 31,
   "id": "701d1c35",
   "metadata": {},
   "outputs": [
    {
     "data": {
      "text/plain": [
       "range(0, 0)"
      ]
     },
     "execution_count": 31,
     "metadata": {},
     "output_type": "execute_result"
    }
   ],
   "source": [
    "range(0)"
   ]
  },
  {
   "cell_type": "code",
   "execution_count": 35,
   "id": "9b769080",
   "metadata": {},
   "outputs": [],
   "source": [
    "None"
   ]
  },
  {
   "cell_type": "code",
   "execution_count": 33,
   "id": "5929a511",
   "metadata": {},
   "outputs": [
    {
     "data": {
      "text/plain": [
       "0.1j"
      ]
     },
     "execution_count": 33,
     "metadata": {},
     "output_type": "execute_result"
    }
   ],
   "source": [
    "0+0.1j"
   ]
  },
  {
   "cell_type": "code",
   "execution_count": 36,
   "id": "a1927383",
   "metadata": {},
   "outputs": [
    {
     "data": {
      "text/plain": [
       "-10"
      ]
     },
     "execution_count": 36,
     "metadata": {},
     "output_type": "execute_result"
    }
   ],
   "source": [
    "-10"
   ]
  },
  {
   "cell_type": "code",
   "execution_count": 37,
   "id": "b079d208",
   "metadata": {},
   "outputs": [
    {
     "data": {
      "text/plain": [
       "-9.6"
      ]
     },
     "execution_count": 37,
     "metadata": {},
     "output_type": "execute_result"
    }
   ],
   "source": [
    "-9.6"
   ]
  },
  {
   "cell_type": "code",
   "execution_count": 38,
   "id": "0ba3e7ad",
   "metadata": {},
   "outputs": [
    {
     "data": {
      "text/plain": [
       "'ABCKL'"
      ]
     },
     "execution_count": 38,
     "metadata": {},
     "output_type": "execute_result"
    }
   ],
   "source": [
    "'ABC'+'KL'"
   ]
  },
  {
   "cell_type": "code",
   "execution_count": 39,
   "id": "db25f86a",
   "metadata": {},
   "outputs": [
    {
     "data": {
      "text/plain": [
       "'-'"
      ]
     },
     "execution_count": 39,
     "metadata": {},
     "output_type": "execute_result"
    }
   ],
   "source": [
    "'-'"
   ]
  },
  {
   "cell_type": "code",
   "execution_count": 40,
   "id": "a216f70e",
   "metadata": {},
   "outputs": [
    {
     "data": {
      "text/plain": [
       "'False'"
      ]
     },
     "execution_count": 40,
     "metadata": {},
     "output_type": "execute_result"
    }
   ],
   "source": [
    "'False'"
   ]
  },
  {
   "cell_type": "code",
   "execution_count": 41,
   "id": "bab52f0f",
   "metadata": {},
   "outputs": [
    {
     "data": {
      "text/plain": [
       "False"
      ]
     },
     "execution_count": 41,
     "metadata": {},
     "output_type": "execute_result"
    }
   ],
   "source": [
    "False"
   ]
  },
  {
   "cell_type": "code",
   "execution_count": 42,
   "id": "e8899e93",
   "metadata": {},
   "outputs": [
    {
     "data": {
      "text/plain": [
       "'None'"
      ]
     },
     "execution_count": 42,
     "metadata": {},
     "output_type": "execute_result"
    }
   ],
   "source": [
    "'None'"
   ]
  },
  {
   "cell_type": "markdown",
   "id": "cd0a1518",
   "metadata": {},
   "source": [
    "Q11. Find the size of x when x is given following values\n",
    "Hint : Size of object can be found by sys.getsizeof() function\n",
    "a. x=0 \n",
    "Check what is size of x\n",
    "b. x=1 \n",
    "Check what is size of x\n",
    "c. x=2 ** 20\n",
    "Check what is size of x\n",
    "d. x=2 ** 32\n",
    "Check what is size of x\n",
    "e. x=2 ** 60 \n",
    "Check what is size of x"
   ]
  },
  {
   "cell_type": "code",
   "execution_count": 43,
   "id": "169cfbbe",
   "metadata": {},
   "outputs": [],
   "source": [
    "import sys\n"
   ]
  },
  {
   "cell_type": "code",
   "execution_count": 44,
   "id": "fa8351ce",
   "metadata": {},
   "outputs": [
    {
     "data": {
      "text/plain": [
       "28"
      ]
     },
     "execution_count": 44,
     "metadata": {},
     "output_type": "execute_result"
    }
   ],
   "source": [
    "x=0\n",
    "sys.getsizeof(x)"
   ]
  },
  {
   "cell_type": "code",
   "execution_count": 45,
   "id": "eab5fe90",
   "metadata": {},
   "outputs": [
    {
     "data": {
      "text/plain": [
       "28"
      ]
     },
     "execution_count": 45,
     "metadata": {},
     "output_type": "execute_result"
    }
   ],
   "source": [
    "x=1\n",
    "sys.getsizeof(x)"
   ]
  },
  {
   "cell_type": "code",
   "execution_count": 46,
   "id": "a73dbe12",
   "metadata": {},
   "outputs": [
    {
     "data": {
      "text/plain": [
       "28"
      ]
     },
     "execution_count": 46,
     "metadata": {},
     "output_type": "execute_result"
    }
   ],
   "source": [
    "x=2**20\n",
    "sys.getsizeof(x)"
   ]
  },
  {
   "cell_type": "code",
   "execution_count": 47,
   "id": "95de4bb1",
   "metadata": {},
   "outputs": [
    {
     "data": {
      "text/plain": [
       "32"
      ]
     },
     "execution_count": 47,
     "metadata": {},
     "output_type": "execute_result"
    }
   ],
   "source": [
    "x=2**32\n",
    "sys.getsizeof(x)"
   ]
  },
  {
   "cell_type": "code",
   "execution_count": 48,
   "id": "3832b71d",
   "metadata": {},
   "outputs": [
    {
     "data": {
      "text/plain": [
       "36"
      ]
     },
     "execution_count": 48,
     "metadata": {},
     "output_type": "execute_result"
    }
   ],
   "source": [
    "x=2**60\n",
    "sys.getsizeof(x)"
   ]
  },
  {
   "cell_type": "markdown",
   "id": "7c571ed8",
   "metadata": {},
   "source": [
    "Q12. Find output of following\n",
    "\n",
    "a. 10 + True\n",
    "b. int(False)\n",
    "c. bin(False)\n",
    "d. hex(True)\n",
    "e. 1578.67 + False\n",
    "f. int(5/4)\n",
    "g. int(9/10)\n",
    "h. int(-89/10)\n",
    "i. float(True)\n",
    "j. float(6*7)\n",
    "k. float(1e3)\n",
    "l. float(1e323)"
   ]
  },
  {
   "cell_type": "code",
   "execution_count": 49,
   "id": "b5a487f1",
   "metadata": {},
   "outputs": [
    {
     "data": {
      "text/plain": [
       "11"
      ]
     },
     "execution_count": 49,
     "metadata": {},
     "output_type": "execute_result"
    }
   ],
   "source": [
    "10 + True"
   ]
  },
  {
   "cell_type": "code",
   "execution_count": 50,
   "id": "03ed8fca",
   "metadata": {},
   "outputs": [
    {
     "data": {
      "text/plain": [
       "0"
      ]
     },
     "execution_count": 50,
     "metadata": {},
     "output_type": "execute_result"
    }
   ],
   "source": [
    "int(False)"
   ]
  },
  {
   "cell_type": "code",
   "execution_count": 51,
   "id": "34a435ca",
   "metadata": {},
   "outputs": [
    {
     "data": {
      "text/plain": [
       "'0b0'"
      ]
     },
     "execution_count": 51,
     "metadata": {},
     "output_type": "execute_result"
    }
   ],
   "source": [
    "bin(False)"
   ]
  },
  {
   "cell_type": "code",
   "execution_count": 52,
   "id": "368e2628",
   "metadata": {},
   "outputs": [
    {
     "data": {
      "text/plain": [
       "'0b1'"
      ]
     },
     "execution_count": 52,
     "metadata": {},
     "output_type": "execute_result"
    }
   ],
   "source": [
    "bin(True)"
   ]
  },
  {
   "cell_type": "code",
   "execution_count": 53,
   "id": "e0b09c06",
   "metadata": {},
   "outputs": [
    {
     "data": {
      "text/plain": [
       "'0x0'"
      ]
     },
     "execution_count": 53,
     "metadata": {},
     "output_type": "execute_result"
    }
   ],
   "source": [
    "hex(False)"
   ]
  },
  {
   "cell_type": "code",
   "execution_count": 54,
   "id": "986412ff",
   "metadata": {},
   "outputs": [
    {
     "data": {
      "text/plain": [
       "'0x1'"
      ]
     },
     "execution_count": 54,
     "metadata": {},
     "output_type": "execute_result"
    }
   ],
   "source": [
    "hex(True)"
   ]
  },
  {
   "cell_type": "code",
   "execution_count": 55,
   "id": "1f874cc9",
   "metadata": {},
   "outputs": [
    {
     "data": {
      "text/plain": [
       "'0x38'"
      ]
     },
     "execution_count": 55,
     "metadata": {},
     "output_type": "execute_result"
    }
   ],
   "source": [
    "hex(56)"
   ]
  },
  {
   "cell_type": "code",
   "execution_count": 56,
   "id": "548d0c83",
   "metadata": {},
   "outputs": [
    {
     "data": {
      "text/plain": [
       "1578.67"
      ]
     },
     "execution_count": 56,
     "metadata": {},
     "output_type": "execute_result"
    }
   ],
   "source": [
    "1578.67 + False"
   ]
  },
  {
   "cell_type": "code",
   "execution_count": 57,
   "id": "af82d36c",
   "metadata": {},
   "outputs": [
    {
     "data": {
      "text/plain": [
       "1579.67"
      ]
     },
     "execution_count": 57,
     "metadata": {},
     "output_type": "execute_result"
    }
   ],
   "source": [
    "1578.67 + True"
   ]
  },
  {
   "cell_type": "markdown",
   "id": "91df6943",
   "metadata": {},
   "source": [
    "increased by one"
   ]
  },
  {
   "cell_type": "code",
   "execution_count": 58,
   "id": "a6e582b1",
   "metadata": {},
   "outputs": [
    {
     "data": {
      "text/plain": [
       "1.0"
      ]
     },
     "execution_count": 58,
     "metadata": {},
     "output_type": "execute_result"
    }
   ],
   "source": [
    "float(True)"
   ]
  },
  {
   "cell_type": "code",
   "execution_count": 59,
   "id": "7bdd1a01",
   "metadata": {},
   "outputs": [
    {
     "data": {
      "text/plain": [
       "42.0"
      ]
     },
     "execution_count": 59,
     "metadata": {},
     "output_type": "execute_result"
    }
   ],
   "source": [
    "float(6*7)"
   ]
  },
  {
   "cell_type": "code",
   "execution_count": 60,
   "id": "355efbc5",
   "metadata": {},
   "outputs": [
    {
     "data": {
      "text/plain": [
       "1"
      ]
     },
     "execution_count": 60,
     "metadata": {},
     "output_type": "execute_result"
    }
   ],
   "source": [
    "int(5/4)"
   ]
  },
  {
   "cell_type": "code",
   "execution_count": 61,
   "id": "01f559b4",
   "metadata": {},
   "outputs": [
    {
     "data": {
      "text/plain": [
       "0"
      ]
     },
     "execution_count": 61,
     "metadata": {},
     "output_type": "execute_result"
    }
   ],
   "source": [
    "int(9/10)"
   ]
  },
  {
   "cell_type": "code",
   "execution_count": 62,
   "id": "3ddc0ef5",
   "metadata": {},
   "outputs": [
    {
     "data": {
      "text/plain": [
       "-8"
      ]
     },
     "execution_count": 62,
     "metadata": {},
     "output_type": "execute_result"
    }
   ],
   "source": [
    "int(-89/10)"
   ]
  },
  {
   "cell_type": "code",
   "execution_count": 63,
   "id": "11172394",
   "metadata": {},
   "outputs": [
    {
     "data": {
      "text/plain": [
       "1.0"
      ]
     },
     "execution_count": 63,
     "metadata": {},
     "output_type": "execute_result"
    }
   ],
   "source": [
    "float(1**3)"
   ]
  },
  {
   "cell_type": "code",
   "execution_count": 64,
   "id": "7ad5dfe8",
   "metadata": {},
   "outputs": [
    {
     "ename": "NameError",
     "evalue": "name 'le3' is not defined",
     "output_type": "error",
     "traceback": [
      "\u001b[1;31m---------------------------------------------------------------------------\u001b[0m",
      "\u001b[1;31mNameError\u001b[0m                                 Traceback (most recent call last)",
      "Cell \u001b[1;32mIn[64], line 1\u001b[0m\n\u001b[1;32m----> 1\u001b[0m \u001b[38;5;28mfloat\u001b[39m(le3)\n",
      "\u001b[1;31mNameError\u001b[0m: name 'le3' is not defined"
     ]
    }
   ],
   "source": [
    "float(le3)"
   ]
  },
  {
   "cell_type": "code",
   "execution_count": 65,
   "id": "be9f4654",
   "metadata": {},
   "outputs": [
    {
     "data": {
      "text/plain": [
       "1.0"
      ]
     },
     "execution_count": 65,
     "metadata": {},
     "output_type": "execute_result"
    }
   ],
   "source": [
    "float(1**323)"
   ]
  },
  {
   "cell_type": "code",
   "execution_count": 66,
   "id": "587c42ac",
   "metadata": {},
   "outputs": [
    {
     "data": {
      "text/plain": [
       "1.708789628736728e+97"
      ]
     },
     "execution_count": 66,
     "metadata": {},
     "output_type": "execute_result"
    }
   ],
   "source": [
    "float(2**323)"
   ]
  },
  {
   "cell_type": "markdown",
   "id": "895ffc70",
   "metadata": {},
   "source": [
    "Q13. Solve following\n",
    "\n",
    "a. Print value of int.bit_length(10)\n",
    "Print value of bin(10)\n",
    "Explain output of both functions \n"
   ]
  },
  {
   "cell_type": "code",
   "execution_count": 67,
   "id": "7d605938",
   "metadata": {},
   "outputs": [
    {
     "data": {
      "text/plain": [
       "4"
      ]
     },
     "execution_count": 67,
     "metadata": {},
     "output_type": "execute_result"
    }
   ],
   "source": [
    "int.bit_length(10)"
   ]
  },
  {
   "cell_type": "code",
   "execution_count": 68,
   "id": "9c84d794",
   "metadata": {},
   "outputs": [
    {
     "data": {
      "text/plain": [
       "'0b1010'"
      ]
     },
     "execution_count": 68,
     "metadata": {},
     "output_type": "execute_result"
    }
   ],
   "source": [
    "bin(10)"
   ]
  },
  {
   "cell_type": "markdown",
   "id": "29da92cb",
   "metadata": {},
   "source": [
    "int.bit_length() gives the length of num given in binary form i.e\n",
    "binary form of 10 is 1010\n",
    "length is 4\n",
    "bin() converts the integer to binary"
   ]
  },
  {
   "cell_type": "code",
   "execution_count": null,
   "id": "ab2702af",
   "metadata": {},
   "outputs": [],
   "source": []
  },
  {
   "cell_type": "markdown",
   "id": "088d973d",
   "metadata": {},
   "source": [
    "b. Take a number from user. Find its square root. And check if square root is an integer or not.\n",
    "(Hint: Use built-in function from float data type functions for last part)"
   ]
  },
  {
   "cell_type": "code",
   "execution_count": 69,
   "id": "c18759ea",
   "metadata": {},
   "outputs": [
    {
     "name": "stdout",
     "output_type": "stream",
     "text": [
      "enter the square no25\n",
      "5.0\n"
     ]
    },
    {
     "data": {
      "text/plain": [
       "False"
      ]
     },
     "execution_count": 69,
     "metadata": {},
     "output_type": "execute_result"
    }
   ],
   "source": [
    "import math\n",
    "num= int(input(\"enter the square no\"))\n",
    "sqrt= math.sqrt(num)\n",
    "print(sqrt)\n",
    "isinstance(sqrt,int)"
   ]
  },
  {
   "cell_type": "markdown",
   "id": "4d749f90",
   "metadata": {},
   "source": [
    "Take hexadecimal string from user and convert it to float\n",
    "Ex. User input string: '0x1.67e30'\n",
    "o/p 1.405807495117187"
   ]
  },
  {
   "cell_type": "code",
   "execution_count": 74,
   "id": "975a0f25",
   "metadata": {},
   "outputs": [
    {
     "name": "stdout",
     "output_type": "stream",
     "text": [
      "enter the num78\n",
      "0x4e\n",
      "78.0\n"
     ]
    }
   ],
   "source": [
    "n=hex(int(input(\"enter the num\")))\n",
    "print(n)\n",
    "print(float.fromhex(n))\n"
   ]
  },
  {
   "cell_type": "markdown",
   "id": "0037bcf4",
   "metadata": {},
   "source": [
    "Q14. WAP to convert given floating point number into fraction i..e numerator and denominator, and print them."
   ]
  },
  {
   "cell_type": "code",
   "execution_count": 81,
   "id": "54b35c51",
   "metadata": {},
   "outputs": [
    {
     "name": "stdout",
     "output_type": "stream",
     "text": [
      "enter float number10.5\n"
     ]
    },
    {
     "data": {
      "text/plain": [
       "(21, 2)"
      ]
     },
     "execution_count": 81,
     "metadata": {},
     "output_type": "execute_result"
    }
   ],
   "source": [
    "f=float(input(\"enter float number\"))\n",
    "(f).as_integer_ratio()\n"
   ]
  },
  {
   "cell_type": "markdown",
   "id": "986eca86",
   "metadata": {},
   "source": [
    "Q15. WAP to create simple calculator in python.\n",
    "Take two numbers from user and give following options\n",
    "a. add b. subtract c. divide d. multiply e. integer division f. mod operation \n",
    "g. check if both numbers are same  h. power operation i. square root of both numbers  j. log of both numbers\n",
    "k. gcd (find the  the greatest common divisor of the two integers) l. lcm (least common multiple)\n",
    "(Hint: Use inbuilt functions)"
   ]
  },
  {
   "cell_type": "code",
   "execution_count": 82,
   "id": "e93f07ef",
   "metadata": {},
   "outputs": [
    {
     "name": "stdout",
     "output_type": "stream",
     "text": [
      "a. add b. subtract c. divide d. multiply e. integer division f. mod operation g. check if both numbers are same  h. power operation i. square root of both numbers  j. log of both numbersk. gcd\n",
      "enter the character : m\n",
      "enter first number34\n",
      "enter second number33\n",
      "invalid\n"
     ]
    }
   ],
   "source": [
    "import math\n",
    "print(\"a. add b. subtract c. divide d. multiply e. integer division f. mod operation g. check if both numbers are same  h. power operation i. square root of both numbers  j. log of both numbersk. gcd\" )\n",
    "choice= input(\"enter the character : \")\n",
    "s=0\n",
    "while(True):\n",
    "    n1=int(input(\"enter first number\"))\n",
    "    n2=int(input(\"enter second number\"))\n",
    "    if choice == 'a':\n",
    "        s= n1+ n2\n",
    "        print(\"sum is\", s)\n",
    "    elif choice== 'b':\n",
    "        s= n2-n1\n",
    "        print(\"sub is \",s)\n",
    "    elif choice== 'c':\n",
    "        s= n2/n1\n",
    "        print(\"div is \",s)\n",
    "    elif choice== 'd':\n",
    "        s= n2*n1\n",
    "        print(\"mul is \",s)\n",
    "    elif choice== 'e':\n",
    "        s= n2//n1\n",
    "        print(\"int mul is \",s)\n",
    "    elif choice== 'f':\n",
    "        s= n2%n1\n",
    "        print(\"mod is \",s)\n",
    "    elif choice== 'g':\n",
    "        if n1==n2:\n",
    "            print(\"same\")\n",
    "        else:\n",
    "            print(\"not same\")\n",
    "    elif choice== 'h':\n",
    "        s= n2**n1\n",
    "        print(\"power is \",s)\n",
    "    elif choice== 'i':\n",
    "        print(\"sqrt of n1\",math.sqrt(n1))\n",
    "        print(\"sqrt of n2\",math.sqrt(n2))\n",
    "    elif choice== 'j':\n",
    "        print(\"log of n1\",math.log(n1))\n",
    "        print(\"log of n2\",math.log(n2))\n",
    "    elif choice== 'k':\n",
    "        print(\"gcd of n1 and n2\",math.gcd(n1,n2))\n",
    "    elif choice== 'l':\n",
    "        print(\"gcd of n1 and n2\",math.lcm(n1,n2))\n",
    "    else:\n",
    "        print(\"invalid\")\n",
    "        break\n",
    "    choice= input(\"enter the character : \")\n",
    "\n"
   ]
  },
  {
   "cell_type": "markdown",
   "id": "3fcd715a",
   "metadata": {},
   "source": [
    "Q16. WAP to check given integer is a perfect square or not. \n",
    "Don't use built in function\n"
   ]
  },
  {
   "cell_type": "markdown",
   "id": "d9e71d37",
   "metadata": {},
   "source": [
    "## Advanced\n"
   ]
  },
  {
   "cell_type": "markdown",
   "id": "e2598344",
   "metadata": {},
   "source": [
    "Q. What is output of following? Explain why such output?\n",
    "\n",
    "a. bool(hex(0)) b. bool(bin(0)) c. bool(0)\n"
   ]
  },
  {
   "cell_type": "code",
   "execution_count": 83,
   "id": "4cb814b1",
   "metadata": {},
   "outputs": [
    {
     "data": {
      "text/plain": [
       "True"
      ]
     },
     "execution_count": 83,
     "metadata": {},
     "output_type": "execute_result"
    }
   ],
   "source": [
    "bool(hex(0))"
   ]
  },
  {
   "cell_type": "code",
   "execution_count": 86,
   "id": "2b8eff60",
   "metadata": {},
   "outputs": [
    {
     "data": {
      "text/plain": [
       "'0x0'"
      ]
     },
     "execution_count": 86,
     "metadata": {},
     "output_type": "execute_result"
    }
   ],
   "source": [
    "hex(0)"
   ]
  },
  {
   "cell_type": "code",
   "execution_count": 84,
   "id": "c2e9c4a6",
   "metadata": {},
   "outputs": [
    {
     "data": {
      "text/plain": [
       "True"
      ]
     },
     "execution_count": 84,
     "metadata": {},
     "output_type": "execute_result"
    }
   ],
   "source": [
    "bool(bin(0))"
   ]
  },
  {
   "cell_type": "code",
   "execution_count": 85,
   "id": "66abce0d",
   "metadata": {},
   "outputs": [
    {
     "data": {
      "text/plain": [
       "False"
      ]
     },
     "execution_count": 85,
     "metadata": {},
     "output_type": "execute_result"
    }
   ],
   "source": [
    "bool(0)"
   ]
  },
  {
   "cell_type": "markdown",
   "id": "9d24b6f2",
   "metadata": {},
   "source": [
    "zero of any numeric type is zero"
   ]
  },
  {
   "cell_type": "markdown",
   "id": "e038fedc",
   "metadata": {},
   "source": [
    "Q. What is output of following ? Explain\n"
   ]
  },
  {
   "cell_type": "code",
   "execution_count": 87,
   "id": "86ae3218",
   "metadata": {},
   "outputs": [
    {
     "name": "stdout",
     "output_type": "stream",
     "text": [
      "Equal\n"
     ]
    }
   ],
   "source": [
    "if( 10 == 10.00 ):\n",
    "  print(\"Equal\")\n",
    "else:\n",
    "  print(\"not Equal\")"
   ]
  },
  {
   "cell_type": "markdown",
   "id": "b2221a8f",
   "metadata": {},
   "source": [
    "if value is same datatype doesnot matter"
   ]
  },
  {
   "cell_type": "code",
   "execution_count": 88,
   "id": "167d3daf",
   "metadata": {},
   "outputs": [
    {
     "name": "stdout",
     "output_type": "stream",
     "text": [
      "Equal\n"
     ]
    }
   ],
   "source": [
    "x=10\n",
    "y=10.00\n",
    "if( x == y ):\n",
    "  print(\"Equal\")\n",
    "else:\n",
    "  print(\"not Equal\")"
   ]
  },
  {
   "cell_type": "code",
   "execution_count": 89,
   "id": "01083402",
   "metadata": {},
   "outputs": [
    {
     "name": "stdout",
     "output_type": "stream",
     "text": [
      "Not Same\n"
     ]
    }
   ],
   "source": [
    "x=10\n",
    "y=10.00\n",
    "if( x is y ):\n",
    "  print(\"Same\")\n",
    "else:\n",
    "  print(\"Not Same\")"
   ]
  },
  {
   "cell_type": "code",
   "execution_count": 90,
   "id": "72b1653b",
   "metadata": {},
   "outputs": [
    {
     "name": "stdout",
     "output_type": "stream",
     "text": [
      "Same\n"
     ]
    }
   ],
   "source": [
    "x=10\n",
    "y=10\n",
    "if( x is y ):\n",
    "  print(\"Same\")\n",
    "else:\n",
    "  print(\"Not Same\")"
   ]
  },
  {
   "cell_type": "markdown",
   "id": "89475acb",
   "metadata": {},
   "source": [
    "Q. What is output of following\n",
    "a. x = 23+4j\n",
    "print(x)\n",
    "b. x = 23+4i\n",
    "c. x = 23+4k\n",
    "d. x=complex('23 + 4j')\n",
    "e. x=complex('23+4j')\n",
    "print(x)\n"
   ]
  },
  {
   "cell_type": "code",
   "execution_count": 93,
   "id": "faba45c0",
   "metadata": {},
   "outputs": [
    {
     "ename": "SyntaxError",
     "evalue": "invalid decimal literal (2312615443.py, line 1)",
     "output_type": "error",
     "traceback": [
      "\u001b[1;36m  Cell \u001b[1;32mIn[93], line 1\u001b[1;36m\u001b[0m\n\u001b[1;33m    x= 23+4i\u001b[0m\n\u001b[1;37m          ^\u001b[0m\n\u001b[1;31mSyntaxError\u001b[0m\u001b[1;31m:\u001b[0m invalid decimal literal\n"
     ]
    }
   ],
   "source": [
    "x= 23+4i\n",
    "print(x)"
   ]
  },
  {
   "cell_type": "code",
   "execution_count": 94,
   "id": "7626d045",
   "metadata": {},
   "outputs": [
    {
     "ename": "SyntaxError",
     "evalue": "invalid decimal literal (1115177609.py, line 1)",
     "output_type": "error",
     "traceback": [
      "\u001b[1;36m  Cell \u001b[1;32mIn[94], line 1\u001b[1;36m\u001b[0m\n\u001b[1;33m    x= 23+4k\u001b[0m\n\u001b[1;37m          ^\u001b[0m\n\u001b[1;31mSyntaxError\u001b[0m\u001b[1;31m:\u001b[0m invalid decimal literal\n"
     ]
    }
   ],
   "source": [
    "x= 23+4k\n",
    "print(x)"
   ]
  },
  {
   "cell_type": "code",
   "execution_count": 95,
   "id": "a511e62e",
   "metadata": {},
   "outputs": [
    {
     "ename": "ValueError",
     "evalue": "complex() arg is a malformed string",
     "output_type": "error",
     "traceback": [
      "\u001b[1;31m---------------------------------------------------------------------------\u001b[0m",
      "\u001b[1;31mValueError\u001b[0m                                Traceback (most recent call last)",
      "Cell \u001b[1;32mIn[95], line 1\u001b[0m\n\u001b[1;32m----> 1\u001b[0m x\u001b[38;5;241m=\u001b[39m\u001b[38;5;28mcomplex\u001b[39m(\u001b[38;5;124m'\u001b[39m\u001b[38;5;124m23 + 4j\u001b[39m\u001b[38;5;124m'\u001b[39m)\n\u001b[0;32m      2\u001b[0m \u001b[38;5;28mprint\u001b[39m(x)\n",
      "\u001b[1;31mValueError\u001b[0m: complex() arg is a malformed string"
     ]
    }
   ],
   "source": [
    "x=complex('23 + 4j')\n",
    "print(x)"
   ]
  },
  {
   "cell_type": "code",
   "execution_count": 96,
   "id": "d0f37f20",
   "metadata": {},
   "outputs": [
    {
     "name": "stdout",
     "output_type": "stream",
     "text": [
      "(23+4j)\n"
     ]
    }
   ],
   "source": [
    "x=complex('23+4j')\n",
    "print(x)"
   ]
  },
  {
   "cell_type": "code",
   "execution_count": null,
   "id": "04e937c9",
   "metadata": {},
   "outputs": [],
   "source": []
  }
 ],
 "metadata": {
  "kernelspec": {
   "display_name": "Python 3 (ipykernel)",
   "language": "python",
   "name": "python3"
  },
  "language_info": {
   "codemirror_mode": {
    "name": "ipython",
    "version": 3
   },
   "file_extension": ".py",
   "mimetype": "text/x-python",
   "name": "python",
   "nbconvert_exporter": "python",
   "pygments_lexer": "ipython3",
   "version": "3.11.4"
  }
 },
 "nbformat": 4,
 "nbformat_minor": 5
}

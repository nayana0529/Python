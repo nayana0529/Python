{
 "cells": [
  {
   "cell_type": "markdown",
   "id": "0eb3a123",
   "metadata": {},
   "source": [
    "# set"
   ]
  },
  {
   "cell_type": "markdown",
   "id": "0223277b",
   "metadata": {},
   "source": [
    "1. Add a list of elements to a given set\n",
    "Given:\n",
    "sampleSet = {\"Yellow\", \"Orange\", \"Black\"}\n",
    "sampleList = [\"Blue\", \"Green\", \"Red\",”Yellow”,”orange”]                                 "
   ]
  },
  {
   "cell_type": "code",
   "execution_count": null,
   "id": "edd7bafe",
   "metadata": {},
   "outputs": [],
   "source": [
    "sample={\"yellow\", \"orange\", \"black\"}\n",
    "list1=[\"blue\", \"green\", \"red\", \"yellow\", \"orange\"]\n",
    "for e in list1:\n",
    "    sample.add(e)\n",
    "print(sample)"
   ]
  },
  {
   "cell_type": "markdown",
   "id": "3f0391ca",
   "metadata": {},
   "source": [
    "\n",
    "2. display common elements from the given set\n",
    "set1 = {10, 20, 30, 40, 50}\n",
    "set2 = {30, 40, 50, 60, 70}"
   ]
  },
  {
   "cell_type": "code",
   "execution_count": null,
   "id": "1c5ad065",
   "metadata": {},
   "outputs": [],
   "source": [
    "set1 = {10, 20, 30, 40, 50}\n",
    "set2 = {30, 40, 50, 60, 70}\n",
    "set1&set2"
   ]
  },
  {
   "cell_type": "markdown",
   "id": "6640ce81",
   "metadata": {},
   "source": [
    "3. Generate a new set with all items from both sets by removing numbers which are in both sets.\n",
    "set1 = {10, 20, 30, 40, 50,25}\n",
    "set2 = {30, 40, 50, 60, 70,100}\n",
    "o/p : order is not important\n",
    "{70, 10, 20, 60,25,100}"
   ]
  },
  {
   "cell_type": "code",
   "execution_count": null,
   "id": "b3b61310",
   "metadata": {},
   "outputs": [],
   "source": [
    "set1 = {10, 20, 30, 40, 50,25} \n",
    "set2 = {30, 40, 50, 60, 70,100}\n",
    "(set1|set2)-(set1&set2)"
   ]
  },
  {
   "cell_type": "markdown",
   "id": "79f0e239",
   "metadata": {},
   "source": [
    "4. set of all elements in either A or B, but not both\n",
    "set1 = {10, 20, 30, 40, 50}\n",
    "set2 = {30, 40, 50, 60, 70}\n",
    "Expected output:\n",
    "{20, 70, 10, 60}"
   ]
  },
  {
   "cell_type": "code",
   "execution_count": null,
   "id": "b5abe7e9",
   "metadata": {},
   "outputs": [],
   "source": [
    "set1 = {10, 20, 30, 40, 50}\n",
    "set2 = {30, 40, 50, 60, 70}\n",
    "(set1|set2)-(set1&set2)"
   ]
  },
  {
   "cell_type": "markdown",
   "id": "3e218305",
   "metadata": {},
   "source": [
    "5. Update set1 by adding items from set2, except common items\n",
    "set1 = {10, 20, 30, 40, 50}\n",
    "set2 = {30, 40, 50, 60, 70}\n",
    "Expected output:\n",
    "{70, 10, 20, 60}"
   ]
  },
  {
   "cell_type": "code",
   "execution_count": null,
   "id": "138fecfa",
   "metadata": {},
   "outputs": [],
   "source": [
    "set1 = {10, 20, 30, 40, 50}\n",
    "set2 = {30, 40, 50, 60, 70}\n",
    "(set1|set2)-(set1&set2)"
   ]
  },
  {
   "cell_type": "markdown",
   "id": "54a0f621",
   "metadata": {},
   "source": [
    "6. Take a sentence as input from user. Every word is seperated by space. Print all unique words from the sentence."
   ]
  },
  {
   "cell_type": "code",
   "execution_count": null,
   "id": "0114da5c",
   "metadata": {},
   "outputs": [],
   "source": [
    "a=input(\"Enter the string\")\n",
    "s1=set(a.split(\" \"))\n",
    "print(s1)"
   ]
  },
  {
   "cell_type": "code",
   "execution_count": null,
   "id": "91baebed",
   "metadata": {},
   "outputs": [],
   "source": [
    "a=input(\"Enter the string\")\n",
    "s1=set(a)\n",
    "print(s1)"
   ]
  },
  {
   "cell_type": "markdown",
   "id": "5e335e5d",
   "metadata": {},
   "source": [
    "# tuple"
   ]
  },
  {
   "cell_type": "markdown",
   "id": "6a962cd8",
   "metadata": {},
   "source": [
    "1. Reverse the following tuple\n",
    "aTuple = (10, 20, 30, 40, 50,60)\n",
    "Expected output:\n",
    "(60,50, 40, 30, 20, 10)"
   ]
  },
  {
   "cell_type": "code",
   "execution_count": null,
   "id": "eff24de7",
   "metadata": {},
   "outputs": [],
   "source": [
    "Tuple = (10, 20, 30, 40, 50,60)\n",
    "Tuple[::-1]"
   ]
  },
  {
   "cell_type": "markdown",
   "id": "1d6c7577",
   "metadata": {},
   "source": [
    "2. display value 20 from the following tuple\n",
    "aTuple = (\"Orange\", [10, 20, 30], (5, 15, 25))\n"
   ]
  },
  {
   "cell_type": "code",
   "execution_count": null,
   "id": "6e11319c",
   "metadata": {},
   "outputs": [],
   "source": [
    "Tuple = (\"Orange\", [10, 20, 30], (5, 15, 25))\n",
    "Tuple[1][1]\n"
   ]
  },
  {
   "cell_type": "markdown",
   "id": "44c8112f",
   "metadata": {},
   "source": [
    "3. Unpack the following tuple into 4 variables\n",
    "aTuple = (10, 20, 30, 40)\n"
   ]
  },
  {
   "cell_type": "code",
   "execution_count": null,
   "id": "f773fdf5",
   "metadata": {},
   "outputs": [],
   "source": [
    "Tuple = (10, 20, 30, 40)\n",
    "a,b,c,d=(10,20,30,40)\n",
    "print(a,b,c,d)"
   ]
  },
  {
   "cell_type": "markdown",
   "id": "5a1d65a8",
   "metadata": {},
   "source": [
    "4. Swap the following two tuples\n",
    "tuple1 = (11, 22)\n",
    "tuple2 = (99, 88)\n",
    "Expected output:\n",
    "tuple1 = (99, 88)\n",
    "tuple2 = (11, 22)"
   ]
  },
  {
   "cell_type": "code",
   "execution_count": null,
   "id": "a537f88f",
   "metadata": {},
   "outputs": [],
   "source": [
    "tuple1= (11, 22)\n",
    "tuple2 = (99, 88) \n",
    "tuple1,tuple2=tuple2,tuple1\n",
    "print(tuple1)\n",
    "print(tuple2)\n"
   ]
  },
  {
   "cell_type": "markdown",
   "id": "4af76894",
   "metadata": {},
   "source": [
    "5. Copy element 44 and 55 from the following tuple into a new tuple\n",
    "tuple1 = (11, 22, 33, 44, 55, 66)\n",
    "Expected output:\n",
    "tuple2: (44, 55)\n"
   ]
  },
  {
   "cell_type": "code",
   "execution_count": null,
   "id": "e5b0e4d6",
   "metadata": {},
   "outputs": [],
   "source": [
    "tuple1 = (11, 22, 33, 44, 55, 66) \n",
    "tuple2=tuple1[3:5]\n",
    "print(tuple1)\n",
    "print(tuple2)"
   ]
  },
  {
   "cell_type": "markdown",
   "id": "62fe06dd",
   "metadata": {},
   "source": [
    "6. Modify the first item (22) of a list inside a following tuple to 200\n",
    "tuple1 = (11, [22, 33], 44, 55)\n",
    "Expected output:\n",
    "tuple1: (11, [200, 33], 44, 55)\n"
   ]
  },
  {
   "cell_type": "code",
   "execution_count": null,
   "id": "74ee68fb",
   "metadata": {},
   "outputs": [],
   "source": [
    "tuple1 = (11, [22, 33], 44, 55)\n",
    "tuple1[1][0]=200\n",
    "print(tuple1)\n"
   ]
  },
  {
   "cell_type": "markdown",
   "id": "df4db308",
   "metadata": {},
   "source": [
    "7. Take two integer values in a & b. Swap their values using tuple, using temparary variable and without tuple and without temparary variable.\n",
    "Ex. a=10 b=23\n",
    "After swapping a=23 b=10\n"
   ]
  },
  {
   "cell_type": "markdown",
   "id": "c6a94c58",
   "metadata": {},
   "source": [
    "without temp"
   ]
  },
  {
   "cell_type": "code",
   "execution_count": null,
   "id": "6994a436",
   "metadata": {},
   "outputs": [],
   "source": [
    "a=int(input(\"enter the value of a\"))\n",
    "b=int(input(\"enter the value of b\"))\n",
    "print(a,b)\n",
    "a,b=b,a\n",
    "print(a,b)"
   ]
  },
  {
   "cell_type": "markdown",
   "id": "00afef57",
   "metadata": {},
   "source": [
    "with temp"
   ]
  },
  {
   "cell_type": "code",
   "execution_count": null,
   "id": "240b9aca",
   "metadata": {},
   "outputs": [],
   "source": [
    "a=int(input(\"enter the value of a\"))\n",
    "b=int(input(\"enter the value of b\"))\n",
    "print(a,b)\n",
    "temp=a\n",
    "a=b\n",
    "b=temp\n",
    "\n",
    "print(a,b)"
   ]
  },
  {
   "cell_type": "markdown",
   "id": "7ef4ff67",
   "metadata": {},
   "source": [
    "arthmatic method"
   ]
  },
  {
   "cell_type": "code",
   "execution_count": null,
   "id": "e1e71788",
   "metadata": {},
   "outputs": [],
   "source": []
  },
  {
   "cell_type": "markdown",
   "id": "c01262df",
   "metadata": {},
   "source": [
    "# Dictionary"
   ]
  },
  {
   "cell_type": "markdown",
   "id": "9bdb3081",
   "metadata": {},
   "source": [
    "1. In cryptography, a Caesar cipher is a very simple encryption techniques in which each letter in the plain text is replaced by a letter some fixed number of positions down the alphabet. For example, with a shift of 3, A would be replaced by D, B would become E, and so on. The method is named after Julius Caesar, who used it to communicate with his generals. ROT-13 (\"rotate by 13 places\") is a widely used\n",
    "example of a Caesar cipher where the shift is 13. In Python, the key for ROT-13 may be represented by means of the following dictionary\n",
    "{'a':'n', 'b':'o', 'c':'p', 'd':'q', 'e':'r', 'f':'s', 'g':'t', 'h':'u', 'i':'v', 'j':'w', 'k':'x', 'l':'y', 'm':'z', 'n':'a', 'o':'b', 'p':'c',\n",
    "'q':'d', 'r':'e', 's':'f', 't':'g', 'u':'h', 'v':'i', 'w':'j', 'x':'k', 'y':'l', 'z':'m', 'A':'N', 'B':'O', 'C':'P', 'D':'Q', 'E':'R', 'F':'S', 'G':'T', 'H':'U', 'I':'V', 'J':'W', 'K':'X', 'L':'Y', 'M':'Z', 'N':'A', 'O':'B', 'P':'C', 'Q':'D', 'R':'E', 'S':'F', 'T':'G', 'U':'H', 'V':'I', 'W':'J', 'X':'K', 'Y':'L', 'Z':'M'}\n",
    "Your task in this exercise is to implement an encoder/decoder of ROT-13. Once you're done, you will be able to read the following secret message:\n",
    "Pnrfne pvcure? V zhpu cersre Pnrfne fnynq!\n",
    "Note that since English has 26 characters, your ROT-13 program will be able to both encode and decode texts written in English."
   ]
  },
  {
   "cell_type": "code",
   "execution_count": 3,
   "id": "68af97cd",
   "metadata": {},
   "outputs": [
    {
     "name": "stdout",
     "output_type": "stream",
     "text": [
      "enter a messagehello\n",
      "['h', 'e', 'l', 'l', 'o']\n",
      "['a', 'b', 'c', 'd', 'e', 'f', 'g', 'h', 'i', 'j', 'k', 'l', 'm', 'n', 'o', 'p', 'q', 'r', 's', 't', 'u', 'v', 'w', 'x', 'y', 'z', 'A', 'B', 'C', 'D', 'E', 'F', 'G', 'H', 'I', 'J', 'K', 'L', 'M', 'N', 'O', 'P', 'Q', 'R', 'S', 'T', 'U', 'V', 'W', 'X', 'Y', 'Z']\n"
     ]
    }
   ],
   "source": [
    "d= {'a':'n', 'b':'o', 'c':'p', 'd':'q', 'e':'r', 'f':'s', 'g':'t', 'h':'u', 'i':'v', 'j':'w', 'k':'x', 'l':'y', 'm':'z', 'n':'a', 'o':'b', 'p':'c', 'q':'d', 'r':'e', 's':'f', 't':'g', 'u':'h', 'v':'i', 'w':'j', 'x':'k', 'y':'l', 'z':'m', 'A':'N', 'B':'O', 'C':'P', 'D':'Q', 'E':'R', 'F':'S', 'G':'T', 'H':'U', 'I':'V', 'J':'W', 'K':'X', 'L':'Y', 'M':'Z', 'N':'A', 'O':'B', 'P':'C', 'Q':'D', 'R':'E', 'S':'F', 'T':'G', 'U':'H', 'V':'I', 'W':'J', 'X':'K', 'Y':'L', 'Z':'M'}\n",
    "a=input(\"enter a message\")\n",
    "st=list(a)\n",
    "print(st)\n",
    "l1=list(d.keys())\n",
    "print(l1)\n",
    "for\n",
    "\n",
    "    \n",
    "   \n",
    "   "
   ]
  },
  {
   "cell_type": "code",
   "execution_count": 12,
   "id": "1e7f4dca",
   "metadata": {},
   "outputs": [
    {
     "name": "stdout",
     "output_type": "stream",
     "text": [
      "enter a messagepython\n"
     ]
    },
    {
     "ename": "TypeError",
     "evalue": "list indices must be integers or slices, not str",
     "output_type": "error",
     "traceback": [
      "\u001b[1;31m---------------------------------------------------------------------------\u001b[0m",
      "\u001b[1;31mTypeError\u001b[0m                                 Traceback (most recent call last)",
      "Cell \u001b[1;32mIn[12], line 6\u001b[0m\n\u001b[0;32m      4\u001b[0m \u001b[38;5;28;01mfor\u001b[39;00m i,e \u001b[38;5;129;01min\u001b[39;00m \u001b[38;5;28menumerate\u001b[39m(st):\n\u001b[0;32m      5\u001b[0m     \u001b[38;5;28;01mfor\u001b[39;00m key,value \u001b[38;5;129;01min\u001b[39;00m \u001b[38;5;28menumerate\u001b[39m(d):\n\u001b[1;32m----> 6\u001b[0m         \u001b[38;5;28;01mif\u001b[39;00m st[e]\u001b[38;5;241m==\u001b[39md[key]:\n\u001b[0;32m      7\u001b[0m             st[e]\u001b[38;5;241m=\u001b[39md[value]\n\u001b[0;32m      8\u001b[0m \u001b[38;5;28mprint\u001b[39m(st)\n",
      "\u001b[1;31mTypeError\u001b[0m: list indices must be integers or slices, not str"
     ]
    }
   ],
   "source": [
    "d1= {'a':'n', 'b':'o', 'c':'p', 'd':'q', 'e':'r', 'f':'s', 'g':'t', 'h':'u', 'i':'v', 'j':'w', 'k':'x', 'l':'y', 'm':'z', 'n':'a', 'o':'b', 'p':'c', 'q':'d', 'r':'e', 's':'f', 't':'g', 'u':'h', 'v':'i', 'w':'j', 'x':'k', 'y':'l', 'z':'m', 'A':'N', 'B':'O', 'C':'P', 'D':'Q', 'E':'R', 'F':'S', 'G':'T', 'H':'U', 'I':'V', 'J':'W', 'K':'X', 'L':'Y', 'M':'Z', 'N':'A', 'O':'B', 'P':'C', 'Q':'D', 'R':'E', 'S':'F', 'T':'G', 'U':'H', 'V':'I', 'W':'J', 'X':'K', 'Y':'L', 'Z':'M'}\n",
    "a=input(\"enter a message=\")\n",
    "st=list(a)\n",
    "for i,e in enumerate(st):\n",
    "    for key,value in enumerate(d1):\n",
    "        if st[e]==d1[key]:\n",
    "            st[e]=d1[value]\n",
    "print(st)"
   ]
  },
  {
   "cell_type": "code",
   "execution_count": 27,
   "id": "8f2493c1",
   "metadata": {},
   "outputs": [
    {
     "name": "stdout",
     "output_type": "stream",
     "text": [
      "Caesar cipher? I much prefer Caesar salad!\n"
     ]
    }
   ],
   "source": [
    "trans={'a':'n', 'b':'o', 'c':'p', 'd':'q', 'e':'r', 'f':'s', 'g':'t', 'h':'u', 'i':'v', \n",
    "    'j':'w', 'k':'x', 'l':'y', 'm':'z', 'n':'a', 'o':'b', 'p':'c', 'q':'d', 'r':'e', \n",
    "    's':'f', 't':'g', 'u':'h', 'v':'i', 'w':'j', 'x':'k', 'y':'l', 'z':'m', 'A':'N', \n",
    "    'B':'O', 'C':'P', 'D':'Q', 'E':'R', 'F':'S', 'G':'T', 'H':'U', 'I':'V', 'J':'W', \n",
    "    'K':'X', 'L':'Y', 'M':'Z', 'N':'A', 'O':'B', 'P':'C', 'Q':'D', 'R':'E', 'S':'F', \n",
    "    'T':'G', 'U':'H', 'V':'I', 'W':'J', 'X':'K', 'Y':'L', 'Z':'M'}\n",
    "s=\"Pnrfne pvcure? V zhpu cersre Pnrfne fnynq!\"\n",
    "new_mess=\"\"\n",
    "for char in s:\n",
    "    \n",
    "    if (char==\" \")|(char==\"?\")|(char==\"!\"):\n",
    "        new_char=char\n",
    "        new_mess=new_mess+new_char\n",
    "    else:\n",
    "        new_char = trans[char]\n",
    "        new_mess = new_mess + new_char\n",
    "        \n",
    "print(new_mess)"
   ]
  },
  {
   "cell_type": "code",
   "execution_count": null,
   "id": "20d68bd3",
   "metadata": {},
   "outputs": [],
   "source": []
  }
 ],
 "metadata": {
  "kernelspec": {
   "display_name": "Python 3 (ipykernel)",
   "language": "python",
   "name": "python3"
  },
  "language_info": {
   "codemirror_mode": {
    "name": "ipython",
    "version": 3
   },
   "file_extension": ".py",
   "mimetype": "text/x-python",
   "name": "python",
   "nbconvert_exporter": "python",
   "pygments_lexer": "ipython3",
   "version": "3.11.4"
  }
 },
 "nbformat": 4,
 "nbformat_minor": 5
}

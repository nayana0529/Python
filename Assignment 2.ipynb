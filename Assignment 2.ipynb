{
 "cells": [
  {
   "cell_type": "markdown",
   "id": "925249aa",
   "metadata": {},
   "source": [
    "/1. What will be output of printing following calculations\n",
    "a. 1.5e200 *2.0e210\n",
    "b. 3.4e-320 / 1e100\n",
    "xplain the output/7+++++++++++7748512*/79846512100000000000010514-\n",
    "4/-610-*6+01*154-40.1-40..1-1414141414141414141414141414141414141414141414141414141414141414141414141414141414141414141414.06314*-0...22"
   ]
  },
  {
   "cell_type": "code",
   "execution_count": 3,
   "id": "6b875054",
   "metadata": {},
   "outputs": [
    {
     "data": {
      "text/plain": [
       "2.7198872460889578e+98"
      ]
     },
     "execution_count": 3,
     "metadata": {},
     "output_type": "execute_result"
    }
   ],
   "source": [
    "1.5**200 *2.0**210"
   ]
  },
  {
   "cell_type": "code",
   "execution_count": 5,
   "id": "812aeafb",
   "metadata": {},
   "outputs": [
    {
     "data": {
      "text/plain": [
       "8.447856857801338e-171"
      ]
     },
     "execution_count": 5,
     "metadata": {},
     "output_type": "execute_result"
    }
   ],
   "source": [
    "3.4**-320/1**100"
   ]
  },
  {
   "cell_type": "markdown",
   "id": "eee0e6ea",
   "metadata": {},
   "source": [
    "Q2. What is output of printing following\n",
    "a. 1/3\n",
    "b. format(1/3, '.3f')\n",
    "c. format(1/3, '.1f')\n",
    "d. 6*1/3\n",
    "e. 1/3 + 1/3 + 1/3 + 1/3 + 1/3 + 1/3\n"
   ]
  },
  {
   "cell_type": "code",
   "execution_count": 6,
   "id": "18855d4b",
   "metadata": {},
   "outputs": [
    {
     "data": {
      "text/plain": [
       "0.3333333333333333"
      ]
     },
     "execution_count": 6,
     "metadata": {},
     "output_type": "execute_result"
    }
   ],
   "source": [
    "1/3"
   ]
  },
  {
   "cell_type": "code",
   "execution_count": 9,
   "id": "52f5fe21",
   "metadata": {},
   "outputs": [
    {
     "data": {
      "text/plain": [
       "'0.333'"
      ]
     },
     "execution_count": 9,
     "metadata": {},
     "output_type": "execute_result"
    }
   ],
   "source": [
    "format(1/3, '.3f')"
   ]
  },
  {
   "cell_type": "code",
   "execution_count": 10,
   "id": "19c326f5",
   "metadata": {},
   "outputs": [
    {
     "data": {
      "text/plain": [
       "'0.3'"
      ]
     },
     "execution_count": 10,
     "metadata": {},
     "output_type": "execute_result"
    }
   ],
   "source": [
    "format(1/3, '.1f')"
   ]
  },
  {
   "cell_type": "code",
   "execution_count": 11,
   "id": "29e0961a",
   "metadata": {},
   "outputs": [
    {
     "data": {
      "text/plain": [
       "2.0"
      ]
     },
     "execution_count": 11,
     "metadata": {},
     "output_type": "execute_result"
    }
   ],
   "source": [
    "6*1/3"
   ]
  },
  {
   "cell_type": "code",
   "execution_count": 12,
   "id": "71dcc3c2",
   "metadata": {},
   "outputs": [
    {
     "data": {
      "text/plain": [
       "1.9999999999999998"
      ]
     },
     "execution_count": 12,
     "metadata": {},
     "output_type": "execute_result"
    }
   ],
   "source": [
    "1/3 + 1/3 + 1/3 + 1/3 + 1/3 + 1/3"
   ]
  },
  {
   "cell_type": "markdown",
   "id": "ea3c5829",
   "metadata": {},
   "source": [
    "Q3. In above question what is difference between output of a and b ? also, d and e?\n"
   ]
  },
  {
   "cell_type": "markdown",
   "id": "e7ea884d",
   "metadata": {},
   "source": [
    "In the above question in a, the digit next to the decimal point are more and in b there is limit for decimal that is 3 \n",
    "In d first  there is division then multiplication and in e is first there is division then addition\n"
   ]
  },
  {
   "cell_type": "markdown",
   "id": "c76bae49",
   "metadata": {},
   "source": [
    "Q4. Study how format function works to print floating point values and strings . Then solve following using format function\n",
    "a. print only first 5 decimal values of 22/7 (hint: see b of Q3)\n",
    "b. print Hello string with 5 spaces on right side, 'Hello     ' ( hint: use <)\n",
    "c. print Hello string with 5 spaces on left side, '     Hello' ( hint: use <) \n",
    "d. print Hello string with 5 '#' on left side and 5 '#' on right side, '     Hello     ' ( hint: use ^ and # as fill value)\n",
    "e. print 10 spaces (hint: give 10 as argument)"
   ]
  },
  {
   "cell_type": "code",
   "execution_count": 14,
   "id": "a3d98b59",
   "metadata": {},
   "outputs": [
    {
     "data": {
      "text/plain": [
       "'3.143'"
      ]
     },
     "execution_count": 14,
     "metadata": {},
     "output_type": "execute_result"
    }
   ],
   "source": [
    "format(22/7, '.3f')"
   ]
  },
  {
   "cell_type": "code",
   "execution_count": 15,
   "id": "5603dfd7",
   "metadata": {},
   "outputs": [
    {
     "name": "stdout",
     "output_type": "stream",
     "text": [
      "HELLO     \n"
     ]
    }
   ],
   "source": [
    "print(format('HELLO', '<10'))\n"
   ]
  },
  {
   "cell_type": "code",
   "execution_count": 16,
   "id": "4790e3a8",
   "metadata": {},
   "outputs": [
    {
     "name": "stdout",
     "output_type": "stream",
     "text": [
      "     HELLO\n"
     ]
    }
   ],
   "source": [
    "print(format('HELLO', '>10'))\n"
   ]
  },
  {
   "cell_type": "code",
   "execution_count": 17,
   "id": "318381f8",
   "metadata": {},
   "outputs": [
    {
     "name": "stdout",
     "output_type": "stream",
     "text": [
      "     hello     \n"
     ]
    }
   ],
   "source": [
    "print(format('hello', '^15'))\n"
   ]
  },
  {
   "cell_type": "code",
   "execution_count": 18,
   "id": "fb2f84de",
   "metadata": {},
   "outputs": [
    {
     "name": "stdout",
     "output_type": "stream",
     "text": [
      "          \n"
     ]
    }
   ],
   "source": [
    "print(format(' ', '^10'))\n"
   ]
  },
  {
   "cell_type": "markdown",
   "id": "64d86b03",
   "metadata": {},
   "source": [
    "Q5. We can use ord() to print ASCII value of single character and chr() to convert given ASCII value to character. \n",
    "a. find ASCII of characters'a' , 'A' , 'z' , 'Z' using ord() one by one\n",
    "b. find ASCII of characters '0', '9', ' ', \"\\n\" , \"\\t\" using ord() one by one\n",
    "c. Find characters for ASCII values 35, 67, 50, 99\n",
    "d. Where ASCII value begin for lower case characters where it ends? also find same for digits and upper case characters"
   ]
  },
  {
   "cell_type": "code",
   "execution_count": 19,
   "id": "583d6091",
   "metadata": {},
   "outputs": [
    {
     "name": "stdout",
     "output_type": "stream",
     "text": [
      "97\n"
     ]
    }
   ],
   "source": [
    "print(ord('a'))\n"
   ]
  },
  {
   "cell_type": "code",
   "execution_count": 20,
   "id": "a8271512",
   "metadata": {},
   "outputs": [
    {
     "name": "stdout",
     "output_type": "stream",
     "text": [
      "65\n"
     ]
    }
   ],
   "source": [
    "print(ord('A'))\n"
   ]
  },
  {
   "cell_type": "code",
   "execution_count": 21,
   "id": "41e3a9e6",
   "metadata": {},
   "outputs": [
    {
     "name": "stdout",
     "output_type": "stream",
     "text": [
      "90\n"
     ]
    }
   ],
   "source": [
    "print(ord('Z'))\n"
   ]
  },
  {
   "cell_type": "code",
   "execution_count": 22,
   "id": "cb4e8957",
   "metadata": {},
   "outputs": [
    {
     "name": "stdout",
     "output_type": "stream",
     "text": [
      "122\n"
     ]
    }
   ],
   "source": [
    "print(ord('z'))\n"
   ]
  },
  {
   "cell_type": "code",
   "execution_count": 25,
   "id": "28cc4acc",
   "metadata": {},
   "outputs": [
    {
     "name": "stdout",
     "output_type": "stream",
     "text": [
      "48\n",
      "57\n"
     ]
    }
   ],
   "source": [
    "print(ord('0'))\n",
    "print(ord('9'))\n",
    "\n",
    "\n"
   ]
  },
  {
   "cell_type": "code",
   "execution_count": 26,
   "id": "167de527",
   "metadata": {},
   "outputs": [
    {
     "name": "stdout",
     "output_type": "stream",
     "text": [
      "32\n"
     ]
    }
   ],
   "source": [
    "print(ord(' '))"
   ]
  },
  {
   "cell_type": "code",
   "execution_count": 27,
   "id": "3bc3f68e",
   "metadata": {},
   "outputs": [
    {
     "name": "stdout",
     "output_type": "stream",
     "text": [
      "10\n"
     ]
    }
   ],
   "source": [
    "print(ord('\\n'))"
   ]
  },
  {
   "cell_type": "code",
   "execution_count": 28,
   "id": "236cc70f",
   "metadata": {},
   "outputs": [
    {
     "name": "stdout",
     "output_type": "stream",
     "text": [
      "9\n"
     ]
    }
   ],
   "source": [
    "print(ord('\\t'))"
   ]
  },
  {
   "cell_type": "code",
   "execution_count": 29,
   "id": "e3b78296",
   "metadata": {},
   "outputs": [
    {
     "name": "stdout",
     "output_type": "stream",
     "text": [
      "#\n",
      "C\n",
      "2\n",
      "c\n"
     ]
    }
   ],
   "source": [
    "print(chr(35))\n",
    "print(chr(67))\n",
    "print(chr(50))\n",
    "print(chr(99))\n"
   ]
  },
  {
   "cell_type": "markdown",
   "id": "267f0c04",
   "metadata": {},
   "source": [
    "For lower case value begins from 97 to 122\n",
    "For upper case value begins from 65 to 90\n"
   ]
  },
  {
   "cell_type": "markdown",
   "id": "bcd9da08",
   "metadata": {},
   "source": [
    "Q6. Find how special chracters work inside print function\n",
    "a. print(\"abc\",\"\\n\",\"bcd\")\n",
    "b. print(\"abc\\nbcd\")\n",
    "c. print(1,'\\n',2)\n",
    "d. print(\"hello \\n\\n!!\")\n",
    "e. print(\"This is '\\t' means tab\")\n",
    "f. How many spaces are printed using \\t?\n",
    "g. print(\"This\",\"is\",\"different\",sep='\\t')\n",
    "h. print(\"This\",\"is\",\"different\",sep='#')\n",
    "i. print(\"This\",\"is\",\"different\",sep='\\n') \n",
    "j. print(\"This\",\"is\",\"different\",end='\\n')\n"
   ]
  },
  {
   "cell_type": "code",
   "execution_count": 30,
   "id": "92f13ae7",
   "metadata": {},
   "outputs": [
    {
     "name": "stdout",
     "output_type": "stream",
     "text": [
      "abc \n",
      " bcd\n"
     ]
    }
   ],
   "source": [
    "print(\"abc\",\"\\n\",\"bcd\")"
   ]
  },
  {
   "cell_type": "code",
   "execution_count": 31,
   "id": "3a21c77d",
   "metadata": {},
   "outputs": [
    {
     "name": "stdout",
     "output_type": "stream",
     "text": [
      "abc\n",
      "bcd\n"
     ]
    }
   ],
   "source": [
    "print(\"abc\\nbcd\")"
   ]
  },
  {
   "cell_type": "code",
   "execution_count": 32,
   "id": "5eb23890",
   "metadata": {},
   "outputs": [
    {
     "name": "stdout",
     "output_type": "stream",
     "text": [
      "1 \n",
      " 2\n"
     ]
    }
   ],
   "source": [
    "print(1,'\\n',2)"
   ]
  },
  {
   "cell_type": "code",
   "execution_count": 33,
   "id": "d05580b4",
   "metadata": {},
   "outputs": [
    {
     "name": "stdout",
     "output_type": "stream",
     "text": [
      "hello \n",
      "\n",
      "!!\n"
     ]
    }
   ],
   "source": [
    "print(\"hello \\n\\n!!\")"
   ]
  },
  {
   "cell_type": "code",
   "execution_count": 34,
   "id": "7a4b503d",
   "metadata": {},
   "outputs": [
    {
     "name": "stdout",
     "output_type": "stream",
     "text": [
      "This is '\t' means tab\n"
     ]
    }
   ],
   "source": [
    "print(\"This is '\\t' means tab\")\n"
   ]
  },
  {
   "cell_type": "markdown",
   "id": "41c52f8f",
   "metadata": {},
   "source": [
    "4"
   ]
  },
  {
   "cell_type": "code",
   "execution_count": 35,
   "id": "1f603214",
   "metadata": {},
   "outputs": [
    {
     "name": "stdout",
     "output_type": "stream",
     "text": [
      "This\tis\tdifferent\n"
     ]
    }
   ],
   "source": [
    "print(\"This\",\"is\",\"different\",sep='\\t')"
   ]
  },
  {
   "cell_type": "code",
   "execution_count": 36,
   "id": "7b6c62fb",
   "metadata": {},
   "outputs": [
    {
     "name": "stdout",
     "output_type": "stream",
     "text": [
      "This#is#different\n"
     ]
    }
   ],
   "source": [
    "print(\"This\",\"is\",\"different\",sep='#')"
   ]
  },
  {
   "cell_type": "code",
   "execution_count": 37,
   "id": "2a385744",
   "metadata": {},
   "outputs": [
    {
     "name": "stdout",
     "output_type": "stream",
     "text": [
      "This\n",
      "is\n",
      "different\n"
     ]
    }
   ],
   "source": [
    "print(\"This\",\"is\",\"different\",sep='\\n')"
   ]
  },
  {
   "cell_type": "code",
   "execution_count": 38,
   "id": "eadec4e4",
   "metadata": {},
   "outputs": [
    {
     "name": "stdout",
     "output_type": "stream",
     "text": [
      "This is different\n"
     ]
    }
   ],
   "source": [
    "print(\"This\",\"is\",\"different\",end='\\n')"
   ]
  },
  {
   "cell_type": "markdown",
   "id": "7d001972",
   "metadata": {},
   "source": [
    "Q7. What is output of following statements and understand how operators work\n",
    "a. 10 / 2\n",
    "b. 10 // 2.0\n",
    "c. 101 / 3\n",
    "d. 101 // 3\n",
    "e. 101 % 3\n",
    "f. 2 ** 4\n",
    "g. 3 ** 2\n",
    "h. abs(-10) # give absolute value\n",
    "i. divmod(101,3) # divmod gives two values , interger division and remainder\n",
    "j. 8 << 1\n",
    "k. 8 << 2\n",
    "l. 32 >> 2\n",
    "m. 16 >> 1\n"
   ]
  },
  {
   "cell_type": "code",
   "execution_count": 39,
   "id": "6487bfa7",
   "metadata": {},
   "outputs": [
    {
     "data": {
      "text/plain": [
       "5.0"
      ]
     },
     "execution_count": 39,
     "metadata": {},
     "output_type": "execute_result"
    }
   ],
   "source": [
    "10/2"
   ]
  },
  {
   "cell_type": "code",
   "execution_count": 40,
   "id": "8367c11b",
   "metadata": {},
   "outputs": [
    {
     "data": {
      "text/plain": [
       "5"
      ]
     },
     "execution_count": 40,
     "metadata": {},
     "output_type": "execute_result"
    }
   ],
   "source": [
    "10//2"
   ]
  },
  {
   "cell_type": "code",
   "execution_count": 41,
   "id": "63822e8c",
   "metadata": {},
   "outputs": [
    {
     "data": {
      "text/plain": [
       "33.666666666666664"
      ]
     },
     "execution_count": 41,
     "metadata": {},
     "output_type": "execute_result"
    }
   ],
   "source": [
    "101/3"
   ]
  },
  {
   "cell_type": "code",
   "execution_count": 42,
   "id": "bdf535e2",
   "metadata": {},
   "outputs": [
    {
     "data": {
      "text/plain": [
       "33"
      ]
     },
     "execution_count": 42,
     "metadata": {},
     "output_type": "execute_result"
    }
   ],
   "source": [
    "101//3"
   ]
  },
  {
   "cell_type": "code",
   "execution_count": 43,
   "id": "de5e1fd1",
   "metadata": {},
   "outputs": [
    {
     "data": {
      "text/plain": [
       "2"
      ]
     },
     "execution_count": 43,
     "metadata": {},
     "output_type": "execute_result"
    }
   ],
   "source": [
    "101%3"
   ]
  },
  {
   "cell_type": "code",
   "execution_count": 44,
   "id": "b77383e6",
   "metadata": {},
   "outputs": [
    {
     "data": {
      "text/plain": [
       "16"
      ]
     },
     "execution_count": 44,
     "metadata": {},
     "output_type": "execute_result"
    }
   ],
   "source": [
    "2**4"
   ]
  },
  {
   "cell_type": "code",
   "execution_count": 45,
   "id": "729f7727",
   "metadata": {},
   "outputs": [
    {
     "data": {
      "text/plain": [
       "9"
      ]
     },
     "execution_count": 45,
     "metadata": {},
     "output_type": "execute_result"
    }
   ],
   "source": [
    "3**2"
   ]
  },
  {
   "cell_type": "code",
   "execution_count": 46,
   "id": "7bcfc6f2",
   "metadata": {},
   "outputs": [
    {
     "data": {
      "text/plain": [
       "10"
      ]
     },
     "execution_count": 46,
     "metadata": {},
     "output_type": "execute_result"
    }
   ],
   "source": [
    "abs(-10)"
   ]
  },
  {
   "cell_type": "code",
   "execution_count": 47,
   "id": "67aabe35",
   "metadata": {},
   "outputs": [
    {
     "data": {
      "text/plain": [
       "(33, 2)"
      ]
     },
     "execution_count": 47,
     "metadata": {},
     "output_type": "execute_result"
    }
   ],
   "source": [
    "divmod(101,3)"
   ]
  },
  {
   "cell_type": "code",
   "execution_count": 48,
   "id": "8adadd32",
   "metadata": {},
   "outputs": [
    {
     "data": {
      "text/plain": [
       "16"
      ]
     },
     "execution_count": 48,
     "metadata": {},
     "output_type": "execute_result"
    }
   ],
   "source": [
    "8<<1"
   ]
  },
  {
   "cell_type": "code",
   "execution_count": 49,
   "id": "6ca0b969",
   "metadata": {},
   "outputs": [
    {
     "data": {
      "text/plain": [
       "32"
      ]
     },
     "execution_count": 49,
     "metadata": {},
     "output_type": "execute_result"
    }
   ],
   "source": [
    "8<<2"
   ]
  },
  {
   "cell_type": "code",
   "execution_count": 50,
   "id": "6428d05f",
   "metadata": {},
   "outputs": [
    {
     "data": {
      "text/plain": [
       "8"
      ]
     },
     "execution_count": 50,
     "metadata": {},
     "output_type": "execute_result"
    }
   ],
   "source": [
    "32>>2"
   ]
  },
  {
   "cell_type": "code",
   "execution_count": 51,
   "id": "17cbae5b",
   "metadata": {},
   "outputs": [
    {
     "data": {
      "text/plain": [
       "8"
      ]
     },
     "execution_count": 51,
     "metadata": {},
     "output_type": "execute_result"
    }
   ],
   "source": [
    "16>>1"
   ]
  },
  {
   "cell_type": "markdown",
   "id": "13d896bb",
   "metadata": {},
   "source": [
    "Q8. Write a program to take marks of 3 subjects from a student. Calculate total in variable name 'total'.\n",
    "(NOTE: Don't use sum as variable name, it is built in function in python)"
   ]
  },
  {
   "cell_type": "code",
   "execution_count": 52,
   "id": "65a1eaaa",
   "metadata": {},
   "outputs": [
    {
     "name": "stdout",
     "output_type": "stream",
     "text": [
      "enter marks of first subject50\n",
      "enter marks of second subject70\n",
      "enter marks of third subject80\n",
      "200\n"
     ]
    }
   ],
   "source": [
    "n1= int(input(\"enter marks of first subject\"))\n",
    "n2= int(input(\"enter marks of second subject\"))\n",
    "n3= int(input(\"enter marks of third subject\"))\n",
    "total = n1+n2+n3\n",
    "print(total)\n"
   ]
  },
  {
   "cell_type": "markdown",
   "id": "b7d4a9a0",
   "metadata": {},
   "source": [
    "\n",
    "Q9. Manually calculate output of following expressions using precedence and associativity rules \n",
    "and then verify output using python shell\n",
    "a. 2 + 3 * (4 -1)\n",
    "b. 2 + ((3 *4) - 8)\n",
    "c. (2 + 3) * 4\n",
    "d. -10 + 25 / (16 + 12)\n",
    "e. 2 ** 2 ** 2\n",
    "f. (3 ** 2) ** 3\n",
    "g. x = y = 3 + 5\n",
    "h. 8/2*(2+2)\n"
   ]
  },
  {
   "cell_type": "code",
   "execution_count": 53,
   "id": "333caf51",
   "metadata": {},
   "outputs": [
    {
     "data": {
      "text/plain": [
       "11"
      ]
     },
     "execution_count": 53,
     "metadata": {},
     "output_type": "execute_result"
    }
   ],
   "source": [
    "2 + 3 * (4 -1)\n"
   ]
  },
  {
   "cell_type": "code",
   "execution_count": 54,
   "id": "98c01ebf",
   "metadata": {},
   "outputs": [
    {
     "data": {
      "text/plain": [
       "6"
      ]
     },
     "execution_count": 54,
     "metadata": {},
     "output_type": "execute_result"
    }
   ],
   "source": [
    "2 + ((3 *4) - 8)"
   ]
  },
  {
   "cell_type": "code",
   "execution_count": 55,
   "id": "cd030f73",
   "metadata": {},
   "outputs": [
    {
     "data": {
      "text/plain": [
       "20"
      ]
     },
     "execution_count": 55,
     "metadata": {},
     "output_type": "execute_result"
    }
   ],
   "source": [
    "(2 + 3) * 4\n"
   ]
  },
  {
   "cell_type": "code",
   "execution_count": 56,
   "id": "abde3ba7",
   "metadata": {},
   "outputs": [
    {
     "data": {
      "text/plain": [
       "-9.107142857142858"
      ]
     },
     "execution_count": 56,
     "metadata": {},
     "output_type": "execute_result"
    }
   ],
   "source": [
    "-10 + 25 / (16 + 12)\n"
   ]
  },
  {
   "cell_type": "code",
   "execution_count": 57,
   "id": "bc3ebecf",
   "metadata": {},
   "outputs": [
    {
     "data": {
      "text/plain": [
       "16"
      ]
     },
     "execution_count": 57,
     "metadata": {},
     "output_type": "execute_result"
    }
   ],
   "source": [
    "2 ** 2 ** 2"
   ]
  },
  {
   "cell_type": "code",
   "execution_count": 58,
   "id": "51bc2633",
   "metadata": {},
   "outputs": [
    {
     "data": {
      "text/plain": [
       "729"
      ]
     },
     "execution_count": 58,
     "metadata": {},
     "output_type": "execute_result"
    }
   ],
   "source": [
    "(3 ** 2) ** 3"
   ]
  },
  {
   "cell_type": "code",
   "execution_count": 60,
   "id": "94598b3a",
   "metadata": {},
   "outputs": [],
   "source": [
    "x = y = 3 + 5\n"
   ]
  },
  {
   "cell_type": "code",
   "execution_count": 61,
   "id": "fe061bad",
   "metadata": {},
   "outputs": [
    {
     "data": {
      "text/plain": [
       "16.0"
      ]
     },
     "execution_count": 61,
     "metadata": {},
     "output_type": "execute_result"
    }
   ],
   "source": [
    "8/2*(2+2)"
   ]
  },
  {
   "cell_type": "markdown",
   "id": "d24bd4bd",
   "metadata": {},
   "source": [
    "Q10. Check output of following \n",
    "a. x = y = 10\n",
    "b. x1 = 20 = y1"
   ]
  },
  {
   "cell_type": "code",
   "execution_count": 62,
   "id": "a4bb13ee",
   "metadata": {},
   "outputs": [],
   "source": [
    "x = y = 10"
   ]
  },
  {
   "cell_type": "code",
   "execution_count": 63,
   "id": "3386b690",
   "metadata": {},
   "outputs": [
    {
     "ename": "SyntaxError",
     "evalue": "cannot assign to literal (1868644801.py, line 1)",
     "output_type": "error",
     "traceback": [
      "\u001b[1;36m  Cell \u001b[1;32mIn[63], line 1\u001b[1;36m\u001b[0m\n\u001b[1;33m    x1 = 20 = y1\u001b[0m\n\u001b[1;37m         ^\u001b[0m\n\u001b[1;31mSyntaxError\u001b[0m\u001b[1;31m:\u001b[0m cannot assign to literal\n"
     ]
    }
   ],
   "source": [
    "x1 = 20 = y1"
   ]
  },
  {
   "cell_type": "markdown",
   "id": "a8a979e8",
   "metadata": {},
   "source": [
    "Q11. What is output of following\n",
    "a. x=10\n",
    "y=34.4\n",
    "print(x and y)\n",
    "print(x or y)\n"
   ]
  },
  {
   "cell_type": "code",
   "execution_count": 64,
   "id": "691acaec",
   "metadata": {},
   "outputs": [
    {
     "name": "stdout",
     "output_type": "stream",
     "text": [
      "34.4\n",
      "10\n"
     ]
    }
   ],
   "source": [
    "x=10\n",
    "y=34.4\n",
    "print(x and y)\n",
    "print(x or y)"
   ]
  },
  {
   "cell_type": "markdown",
   "id": "730edd56",
   "metadata": {},
   "source": [
    "### if else"
   ]
  },
  {
   "cell_type": "markdown",
   "id": "fe4b83b5",
   "metadata": {},
   "source": [
    "1.\tA student will not be allowed to sit in exam if his/her attendence is less than 75%.  \n",
    "Take following input from user Number of classes held Number of classes attended. And print percentage of class attended  \n",
    "Is student is allowed to sit in exam or not.  "
   ]
  },
  {
   "cell_type": "code",
   "execution_count": 65,
   "id": "3d75eed1",
   "metadata": {},
   "outputs": [
    {
     "name": "stdout",
     "output_type": "stream",
     "text": [
      "enter the number of class held80\n",
      "enter the number of class attended66\n",
      "82.5\n",
      "student is allowed to class\n"
     ]
    }
   ],
   "source": [
    "class_held= int(input(\"enter the number of class held\"))\n",
    "class_attended =int(input(\"enter the number of class attended\"))\n",
    "total = (class_attended/class_held)*100\n",
    "print(total)\n",
    "if total < 75:\n",
    "    print(\"student is not allowed to class\")\n",
    "else:\n",
    "    print(\"student is allowed to class\")\n"
   ]
  },
  {
   "cell_type": "markdown",
   "id": "6ea807a0",
   "metadata": {},
   "source": [
    "2. accept amount from user and find the minimum number notes required to get the amount amount =512  \n",
    "Notes: 2000,500,100,50,10,5,2,1  \n",
    "\n",
    "\n"
   ]
  },
  {
   "cell_type": "code",
   "execution_count": 71,
   "id": "b9a64952",
   "metadata": {},
   "outputs": [
    {
     "name": "stdout",
     "output_type": "stream",
     "text": [
      "2000 - 17\n",
      "200 - 1\n",
      "50 - 1\n",
      "10 - 1\n",
      "5 - 1\n",
      "2 - 1\n"
     ]
    }
   ],
   "source": [
    "amount=34267\n",
    "notes_2k = amount // 2000\n",
    "if notes_2k > 0:\n",
    "    print(\"2000 -\", notes_2k)\n",
    "rem_amount= amount % 2000\n",
    "\n",
    "notes_500 = rem_amount //500\n",
    "if notes_500 > 0:\n",
    "    print(\"500 -\", notes_500)\n",
    "rem_amount= amount % 500\n",
    "\n",
    "notes_200 = rem_amount //200\n",
    "if notes_200 > 0:\n",
    "    print(\"200 -\", notes_200)\n",
    "rem_amount= amount % 200\n",
    "\n",
    "notes_100 = rem_amount //100\n",
    "if notes_100 > 0:\n",
    "    print(\"100 -\", notes_100)\n",
    "rem_amount= amount % 100\n",
    "\n",
    "notes_50 = rem_amount //50\n",
    "if notes_50 > 0:\n",
    "    print(\"50 -\", notes_50)\n",
    "rem_amount= amount % 50\n",
    "\n",
    "notes_20, rem_amount = divmod(rem_amount,20)\n",
    "if notes_20 > 0:\n",
    "    print(\"20 -\", notes_20)\n",
    "\n",
    "    \n",
    "notes_10, rem_amount = divmod(rem_amount,10)\n",
    "if notes_10 > 0:\n",
    "    print(\"10 -\", notes_10)\n",
    "notes_5, rem_amount = divmod(rem_amount,5)\n",
    "if notes_5 > 0:\n",
    "    print(\"5 -\", notes_5)\n",
    "notes_2, rem_amount = divmod(rem_amount,2)\n",
    "if notes_2 > 0:\n",
    "    print(\"2 -\", notes_2)\n",
    "notes_1, rem_amount = divmod(rem_amount,1)\n",
    "if notes_1 > 0:\n",
    "    print(\"1 -\", notes_1)"
   ]
  },
  {
   "cell_type": "markdown",
   "id": "531ef6c9",
   "metadata": {},
   "source": [
    "3.\tModify the above question Q1 to allow student to sit if he/she has medical cause. Ask user if he/she has medical cause or not ( 'Y' or 'N' ) and print accordingly.  \n",
    "4.\tA school has following rules for grading system:  \n",
    "a.\tBelow 25 - F  \n",
    "b.\t25 to 45 - E  \n",
    "c.\t45 to 50 - D  \n",
    "d.\t50 to 60 - C  \n",
    "e.\t60 to 80 - B  \n",
    "f.\tAbove 80 - A  \n",
    "Ask user to enter marks and print the corresponding grade. \n",
    "marks =int(input(\"enter the marks\"))\n"
   ]
  },
  {
   "cell_type": "code",
   "execution_count": 67,
   "id": "a04e52cd",
   "metadata": {},
   "outputs": [
    {
     "name": "stdout",
     "output_type": "stream",
     "text": [
      "enter the marks78\n",
      "B\n"
     ]
    }
   ],
   "source": [
    "marks =int(input(\"enter the marks\"))\n",
    "\n",
    "if marks > 80:\n",
    "    print(\"A\")\n",
    "elif 60 <= marks <= 80:\n",
    "    print(\"B\")\n",
    "elif 50 <= marks <= 60:\n",
    "    print(\"C\")\n",
    "elif 45 <= marks <= 50:\n",
    "    print(\"D\")\n",
    "elif 25 <= marks <= 45:\n",
    "    print(\"E\")\n",
    "else:\n",
    "    print(\"F\")\n"
   ]
  },
  {
   "cell_type": "markdown",
   "id": "699367a6",
   "metadata": {},
   "source": [
    "5.\t  If  x = 2 y = 5 z = 0  then find values of the following expressions and Print the output of following statements  \n",
    "a.\tx == 2  \n",
    "b.\tx != 5  \n",
    "c.\tx != 5 & y >= 5  \n",
    "d.\tz != 0 | x == 2  \n",
    "e.\tnot(y < 10)"
   ]
  },
  {
   "cell_type": "code",
   "execution_count": 68,
   "id": "31d0a963",
   "metadata": {},
   "outputs": [
    {
     "name": "stdout",
     "output_type": "stream",
     "text": [
      "True\n",
      "True\n",
      "True\n",
      "True\n",
      "False\n"
     ]
    }
   ],
   "source": [
    "x=2\n",
    "y=5\n",
    "z=0\n",
    "print(x==2)\n",
    "print(x!=5)\n",
    "print(x!=5 & y>=5)\n",
    "print(z != 0 | x == 2 )\n",
    "print(not(y < 10))\n"
   ]
  },
  {
   "cell_type": "markdown",
   "id": "8692f078",
   "metadata": {},
   "source": [
    "6.\tAccept number from user and check whether it is divisible by 5 and 11 if divisible then display appropriate message."
   ]
  },
  {
   "cell_type": "code",
   "execution_count": 70,
   "id": "1d08f00f",
   "metadata": {},
   "outputs": [
    {
     "name": "stdout",
     "output_type": "stream",
     "text": [
      "enter the number55\n",
      "number is divisible by 11 and 5\n"
     ]
    }
   ],
   "source": [
    "num = int(input(\"enter the number\"))\n",
    "if num%11==0 & num%5==0:\n",
    "    print(\"number is divisible by 11 and 5\")\n",
    "elif num%11==0:\n",
    "    print(\"number is divisible by 11\")\n",
    "elif num%5==0:\n",
    "    print(\"number is divisible by 5\")\n",
    "else:\n",
    "    print(\"number is not divisible by 11 and 5\")\n"
   ]
  },
  {
   "cell_type": "markdown",
   "id": "86eec984",
   "metadata": {},
   "source": [
    "Write a program to calculate the electricity bill (accept number of unit from user) according to the following criteria :  \n",
    "             Unit                                    Price    \n",
    "First 100 units                                       no charge  \n",
    "Next 100 units                                        Rs 5 per unit  \n",
    "After 200 units                                       Rs 10 per unit  \n",
    "(For example if input unit is 350 than total bill amount is Rs2000)  "
   ]
  },
  {
   "cell_type": "code",
   "execution_count": null,
   "id": "c4574fcd",
   "metadata": {},
   "outputs": [],
   "source": []
  }
 ],
 "metadata": {
  "kernelspec": {
   "display_name": "Python 3 (ipykernel)",
   "language": "python",
   "name": "python3"
  },
  "language_info": {
   "codemirror_mode": {
    "name": "ipython",
    "version": 3
   },
   "file_extension": ".py",
   "mimetype": "text/x-python",
   "name": "python",
   "nbconvert_exporter": "python",
   "pygments_lexer": "ipython3",
   "version": "3.11.4"
  }
 },
 "nbformat": 4,
 "nbformat_minor": 5
}
